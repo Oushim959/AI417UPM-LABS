{
 "cells": [
  {
   "cell_type": "code",
   "execution_count": 1,
   "id": "a5dac8f9",
   "metadata": {},
   "outputs": [],
   "source": [
    "import torch"
   ]
  },
  {
   "cell_type": "code",
   "execution_count": 140,
   "id": "2e383e63",
   "metadata": {},
   "outputs": [
    {
     "name": "stdout",
     "output_type": "stream",
     "text": [
      "x: tensor(2)\n",
      "y: tensor(10)\n",
      "w: tensor(3., requires_grad=True)\n"
     ]
    }
   ],
   "source": [
    "# Create tensor without requires_grad = True\n",
    "x = torch.tensor(2) # Input tensor\n",
    "y = torch.tensor(10) # Ground-Truth / Target\n",
    "b = torch.tensor(6.0,requires_grad=True)\n",
    "# Create tensors with requires_grad = True\n",
    "w = torch.tensor(3.0, requires_grad=True) # Weights\n",
    "\n",
    "# Print the tensors\n",
    "print(\"x:\", x)\n",
    "print(\"y:\", y)\n",
    "print(\"w:\", w)"
   ]
  },
  {
   "cell_type": "code",
   "execution_count": 141,
   "id": "8e756b1c",
   "metadata": {},
   "outputs": [
    {
     "name": "stdout",
     "output_type": "stream",
     "text": [
      "y_hat: tensor(6., grad_fn=<MulBackward0>)\n"
     ]
    }
   ],
   "source": [
    "# Define a function y_hat for the tensors\n",
    "y_hat = w * x # Output / Predictions\n",
    "\n",
    "print(\"y_hat:\", y_hat)"
   ]
  },
  {
   "cell_type": "code",
   "execution_count": 142,
   "id": "5e4c177d",
   "metadata": {},
   "outputs": [
    {
     "name": "stdout",
     "output_type": "stream",
     "text": [
      "Loss: tensor(16., grad_fn=<PowBackward0>)\n"
     ]
    }
   ],
   "source": [
    "# Compute loss\n",
    "s = y_hat - y\n",
    "loss = (s)**2\n",
    "\n",
    "print(\"Loss:\", loss)"
   ]
  },
  {
   "cell_type": "code",
   "execution_count": 143,
   "id": "2dc35532",
   "metadata": {},
   "outputs": [],
   "source": [
    "# computes the gradients for all tensors that have requires_grad=True, by calling the backward function for loss\n",
    "loss.backward()"
   ]
  },
  {
   "cell_type": "code",
   "execution_count": 144,
   "id": "bbb3bc32",
   "metadata": {},
   "outputs": [
    {
     "name": "stdout",
     "output_type": "stream",
     "text": [
      "x.grad : None\n",
      "w.grad : tensor(-16.)\n",
      "b.grad  tensor(4.)\n"
     ]
    }
   ],
   "source": [
    "# Access and print the gradients with respect to x and w\n",
    "dx = x.grad  # x does not have requires_grad=True, so dx will be None\n",
    "dw = w.grad  # w has requires_grad=True, so dw will contain the gradient\n",
    "print(\"x.grad :\", dx)\n",
    "print(\"w.grad :\", dw)\n",
    "print(\"b.grad \", db)"
   ]
  },
  {
   "cell_type": "code",
   "execution_count": 145,
   "id": "45e940d2-482a-4787-a75e-dbfbb6f8dc7c",
   "metadata": {},
   "outputs": [
    {
     "data": {
      "text/plain": [
       "tensor(0.)"
      ]
     },
     "execution_count": 145,
     "metadata": {},
     "output_type": "execute_result"
    }
   ],
   "source": [
    "w.grad.data.zero_()"
   ]
  },
  {
   "cell_type": "code",
   "execution_count": 146,
   "id": "926ef432-f185-4b83-8172-1ab47d83f316",
   "metadata": {},
   "outputs": [
    {
     "name": "stdout",
     "output_type": "stream",
     "text": [
      "y_hat  tensor(12., grad_fn=<AddBackward0>)\n"
     ]
    }
   ],
   "source": [
    "y_hat = w * x + b\n",
    "\n",
    "print(\"y_hat \", y_hat)"
   ]
  },
  {
   "cell_type": "code",
   "execution_count": 147,
   "id": "6591336c-87dd-4ff8-8838-3750d206f2fd",
   "metadata": {},
   "outputs": [
    {
     "name": "stdout",
     "output_type": "stream",
     "text": [
      "Loss: tensor(4., grad_fn=<PowBackward0>)\n"
     ]
    }
   ],
   "source": [
    "s = y_hat - y\n",
    "loss = (s)**2\n",
    "\n",
    "print(\"Loss:\", loss)"
   ]
  },
  {
   "cell_type": "code",
   "execution_count": 148,
   "id": "7f34c53a-e869-4850-bdfb-ff6ceab0bb4e",
   "metadata": {},
   "outputs": [],
   "source": [
    "loss.backward()"
   ]
  },
  {
   "cell_type": "code",
   "execution_count": 149,
   "id": "9c0cebea-0fce-44f0-8e06-2a9cdcdbc05e",
   "metadata": {},
   "outputs": [
    {
     "name": "stdout",
     "output_type": "stream",
     "text": [
      "x.grad : None\n",
      "w.grad : tensor(8.)\n",
      "b.grad  tensor(4.)\n"
     ]
    }
   ],
   "source": [
    "dx = x.grad  \n",
    "dw = w.grad  \n",
    "db = b.grad\n",
    "print(\"x.grad :\", dx)\n",
    "print(\"w.grad :\", dw)\n",
    "print(\"b.grad \", db)"
   ]
  },
  {
   "cell_type": "code",
   "execution_count": 150,
   "id": "d7ea51c8-b3c9-4639-8958-54c711f3f33b",
   "metadata": {},
   "outputs": [
    {
     "data": {
      "text/plain": [
       "tensor(0.)"
      ]
     },
     "execution_count": 150,
     "metadata": {},
     "output_type": "execute_result"
    }
   ],
   "source": [
    "w.grad.data.zero_()"
   ]
  },
  {
   "cell_type": "code",
   "execution_count": 151,
   "id": "ba0ad3a0-06ca-483e-8777-e7ba15c89f42",
   "metadata": {},
   "outputs": [
    {
     "name": "stdout",
     "output_type": "stream",
     "text": [
      "y_hat  tensor(12.5000, grad_fn=<AddBackward0>)\n"
     ]
    }
   ],
   "source": [
    "y_hat = w * (x**2) + 0.5\n",
    "\n",
    "print(\"y_hat \", y_hat)"
   ]
  },
  {
   "cell_type": "code",
   "execution_count": 152,
   "id": "af678f12-2700-4c91-82ad-f9625c03e7fa",
   "metadata": {},
   "outputs": [
    {
     "name": "stdout",
     "output_type": "stream",
     "text": [
      "Loss: tensor(6.2500, grad_fn=<PowBackward0>)\n"
     ]
    }
   ],
   "source": [
    "s = y_hat - y\n",
    "loss = (s)**2\n",
    "\n",
    "print(\"Loss:\", loss)"
   ]
  },
  {
   "cell_type": "code",
   "execution_count": 153,
   "id": "efdc363c-54e0-4b73-a77d-f06d48137270",
   "metadata": {},
   "outputs": [],
   "source": [
    "loss.backward()"
   ]
  },
  {
   "cell_type": "code",
   "execution_count": 154,
   "id": "2d0968f8-980f-45eb-86aa-546d831145da",
   "metadata": {},
   "outputs": [
    {
     "name": "stdout",
     "output_type": "stream",
     "text": [
      "x.grad : None\n",
      "w.grad : tensor(20.)\n"
     ]
    }
   ],
   "source": [
    "dx = x.grad  \n",
    "dw = w.grad  \n",
    "db = b.grad\n",
    "print(\"x.grad :\", dx)\n",
    "print(\"w.grad :\", dw)"
   ]
  },
  {
   "cell_type": "code",
   "execution_count": 155,
   "id": "7569fef9-bddd-4d53-8710-473850d37389",
   "metadata": {},
   "outputs": [
    {
     "data": {
      "text/plain": [
       "tensor(0.)"
      ]
     },
     "execution_count": 155,
     "metadata": {},
     "output_type": "execute_result"
    }
   ],
   "source": [
    "w.grad.data.zero_()"
   ]
  },
  {
   "cell_type": "code",
   "execution_count": 156,
   "id": "822141db-b425-4fcf-8f89-f69d3c5f0427",
   "metadata": {},
   "outputs": [
    {
     "name": "stdout",
     "output_type": "stream",
     "text": [
      "y_hat  tensor(24., grad_fn=<AddBackward0>)\n"
     ]
    }
   ],
   "source": [
    "y_hat = x**3 + w * (x**2) + 2 * x\n",
    "\n",
    "print(\"y_hat \", y_hat)"
   ]
  },
  {
   "cell_type": "code",
   "execution_count": 157,
   "id": "91f8665d-3530-42d5-bbf4-d2bd55f2594c",
   "metadata": {},
   "outputs": [
    {
     "name": "stdout",
     "output_type": "stream",
     "text": [
      "Loss: tensor(196., grad_fn=<PowBackward0>)\n"
     ]
    }
   ],
   "source": [
    "s = y_hat - y\n",
    "loss = (s)**2\n",
    "\n",
    "print(\"Loss:\", loss)"
   ]
  },
  {
   "cell_type": "code",
   "execution_count": 158,
   "id": "713f1e9d-95d6-4bbf-9517-bfca1007630a",
   "metadata": {},
   "outputs": [],
   "source": [
    "loss.backward()"
   ]
  },
  {
   "cell_type": "code",
   "execution_count": 159,
   "id": "a5793f7b-8a97-4d02-b539-7145f670bea1",
   "metadata": {},
   "outputs": [
    {
     "name": "stdout",
     "output_type": "stream",
     "text": [
      "x.grad : None\n",
      "w.grad : tensor(112.)\n"
     ]
    }
   ],
   "source": [
    "dx = x.grad  \n",
    "dw = w.grad  \n",
    "db = b.grad\n",
    "print(\"x.grad :\", dx)\n",
    "print(\"w.grad :\", dw)"
   ]
  },
  {
   "cell_type": "code",
   "execution_count": null,
   "id": "7e92f232-f419-4b7e-95fe-46c79239b0c9",
   "metadata": {},
   "outputs": [],
   "source": []
  },
  {
   "cell_type": "code",
   "execution_count": null,
   "id": "71061c3e-fd73-46aa-9d15-a10ea25fbcd4",
   "metadata": {},
   "outputs": [],
   "source": []
  }
 ],
 "metadata": {
  "kernelspec": {
   "display_name": "Python 3 (ipykernel)",
   "language": "python",
   "name": "python3"
  },
  "language_info": {
   "codemirror_mode": {
    "name": "ipython",
    "version": 3
   },
   "file_extension": ".py",
   "mimetype": "text/x-python",
   "name": "python",
   "nbconvert_exporter": "python",
   "pygments_lexer": "ipython3",
   "version": "3.12.7"
  }
 },
 "nbformat": 4,
 "nbformat_minor": 5
}
